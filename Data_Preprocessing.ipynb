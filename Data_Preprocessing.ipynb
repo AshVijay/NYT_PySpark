{
 "cells": [
  
  {
   "cell_type": "code",
   "execution_count": 1,
   "metadata": {
    "collapsed": true
   },
   "outputs": [],
   "source": [
    "# grabbing the ntyimesarticle library\n",
    "from nytimesarticle import articleAPI\n",
    "api = articleAPI('8da1f056b9bc4a5fb5b3d59fd1c81b20')"
   ]
  },
  {
   "cell_type": "code",
   "execution_count": 52,
   "metadata": {
    "collapsed": true
   },
   "outputs": [],
   "source": [
    "# imports needed to extract article text from urls\n",
    "import requests\n",
    "import datetime\n",
    "from newspaper import Article"
   ]
  },
  {
   "cell_type": "code",
   "execution_count": 53,
   "metadata": {
    "collapsed": true
   },
   "outputs": [],
   "source": [
    "# data handlign imports\n",
    "import pandas\n",
    "import csv"
   ]
  },
  {
   "cell_type": "code",
   "execution_count": 115,
   "metadata": {
    "collapsed": true
   },
   "outputs": [],
   "source": [
    "# generate dates with 30 day intervals in the format that nytimes api accepts\n",
    "begin = '2015-01-03'\n",
    "finish = '2015-05-10'\n",
    "start = datetime.datetime.strptime(begin, '%Y-%m-%d')\n",
    "end = datetime.datetime.strptime(finish, '%Y-%m-%d')\n",
    "\n",
    "step = datetime.timedelta(days=30)\n",
    "\n",
    "dates = []\n",
    "\n",
    "while start <= end:\n",
    "    date = str(start.date()).replace('-','')\n",
    "    dates.append(date)\n",
    "    start += step"
   ]
  },
  {
   "cell_type": "code",
   "execution_count": 116,
   "metadata": {
    "collapsed": true
   },
   "outputs": [],
   "source": [
    "# store all links in the list\n",
    "web_links = []\n",
    "url = 'https://api.nytimes.com/svc/search/v2/articlesearch.json'"
   ]
  },
  {
   "cell_type": "code",
   "execution_count": 117,
   "metadata": {},
   "outputs": [
    {
     "name": "stdout",
     "output_type": "stream",
     "text": [
      "now considering: 20150103 to 20150202\n",
      "now considering: 20150202 to 20150304\n",
      "now considering: 20150304 to 20150403\n",
      "now considering: 20150403 to 20150503\n"
     ]
    }
   ],
   "source": [
    "# loop to grab links related to topic in 'q' given the range of dates\n",
    "for i in range(len(dates)-1):\n",
    "    print(\"now considering: \" + str(dates[i]) + \" to \" + str(dates[i+1]))\n",
    "    params = {\n",
    "    'api-key': '8da1f056b9bc4a5fb5b3d59fd1c81b20',\n",
    "    'q': 'movies',\n",
    "    'begin_date': str(dates[i]),\n",
    "    'end_date': str(dates[i+1])\n",
    "    }\n",
    "    \n",
    "    resp = requests.get(url=url, params=params)\n",
    "    data = resp.json()\n",
    "    \n",
    "    for response in data:\n",
    "        if response == 'response':\n",
    "            for docs in data[response]:\n",
    "                if docs == 'docs':\n",
    "                    for item in data[response][docs]:\n",
    "                        web_links.append(item['web_url'])"
   ]
  },
  {
   "cell_type": "code",
   "execution_count": 118,
   "metadata": {},
   "outputs": [
    {
     "data": {
      "text/plain": [
       "30"
      ]
     },
     "execution_count": 118,
     "metadata": {},
     "output_type": "execute_result"
    }
   ],
   "source": [
    "# check the number of links\n",
    "len(web_links)"
   ]
  },
  {
   "cell_type": "code",
   "execution_count": 119,
   "metadata": {},
   "outputs": [
    {
     "name": "stdout",
     "output_type": "stream",
     "text": [
      "added to csv: https://www.nytimes.com/2015/01/23/movies/movie-listings-for-jan-23-29.html\n",
      "added to csv: https://www.nytimes.com/2015/01/30/movies/movie-listings-for-jan-30-feb-5.html\n",
      "added to csv: https://www.nytimes.com/video/movies/100000003481520/this-weeks-movies-jan-30-2015.html\n",
      "added to csv: https://www.nytimes.com/2015/01/16/movies/movie-listings-for-jan-16-22.html\n",
      "added to csv: https://www.nytimes.com/video/movies/100000003466832/this-weeks-movies-jan-23-2015.html\n",
      "added to csv: https://www.nytimes.com/2015/01/09/movies/movie-listings-for-jan-9-15.html\n",
      "added to csv: https://www.nytimes.com/video/movies/100000003453103/this-weeks-movies-jan-16-2014.html\n",
      "added to csv: https://douthat.blogs.nytimes.com/2015/01/15/the-year-in-movies/\n",
      "added to csv: https://www.nytimes.com/video/movies/100000003438692/this-weeks-movies-jan-9-2015.html\n",
      "added to csv: https://www.nytimes.com/2015/01/17/opinion/when-movies-and-markets-clash.html\n",
      "added to csv: https://www.nytimes.com/2015/03/01/magazine/letter-of-recommendation-turner-classic-movies.html\n",
      "added to csv: https://www.nytimes.com/2015/02/27/movies/movie-listings-for-feb-27-march-5.html\n",
      "could not download the link: https://www.nytimes.com/2015/02/20/movies/movie-listings-for-feb-20-26.html\n",
      "added to csv: https://www.nytimes.com/video/movies/100000003538965/this-weeks-movies-feb-27-2015.html\n",
      "added to csv: https://www.nytimes.com/2015/02/13/movies/movie-listings-for-feb-13-19.html\n",
      "added to csv: https://www.nytimes.com/video/movies/100000003523696/this-weeks-movies-feb-20-2015.html\n",
      "added to csv: https://www.nytimes.com/2015/02/06/movies/movie-listings-for-feb-6-12.html\n",
      "added to csv: https://www.nytimes.com/video/movies/100000003507788/this-weeks-movies-feb-13-2015.html\n",
      "added to csv: https://www.nytimes.com/video/movies/100000003494659/this-weeks-movies-feb-6-2015.html\n",
      "added to csv: https://www.nytimes.com/2015/02/15/movies/awardsseason/oscars-2015-a-o-scott-and-manohla-dargis-discuss-the-contenders.html\n",
      "added to csv: https://www.nytimes.com/video/movies/100000003660156/cathedrals-of-culture.html\n",
      "added to csv: https://www.nytimes.com/interactive/2015/04/30/movies/03sexcomedies.html\n",
      "added to csv: https://www.nytimes.com/2015/05/01/movies/movie-listings-for-may-1-7.html\n",
      "added to csv: https://www.nytimes.com/2015/04/24/movies/movie-listings-for-april-24-30.html\n",
      "added to csv: https://www.nytimes.com/2015/05/03/movies/breakthrough-performances-of-the-summer-movies-season.html\n",
      "added to csv: https://www.nytimes.com/2015/04/17/movies/movie-listings-for-april-17-23.html\n",
      "added to csv: https://www.nytimes.com/video/movies/100000003659610/this-weeks-movies-may-1-2015.html\n",
      "added to csv: https://www.nytimes.com/video/movies/100000003646344/this-weeks-movies-april-24-2015.html\n",
      "added to csv: https://www.nytimes.com/2015/04/10/movies/movie-listings-for-april-10-16.html\n",
      "added to csv: https://www.nytimes.com/interactive/2015/05/01/movies/03movie-trailers-feature.html\n"
     ]
    }
   ],
   "source": [
    "# extract article text for the links obtained through nytimesarticle\n",
    "for link in web_links:\n",
    "    try:\n",
    "        article = Article(link)\n",
    "        article.download()\n",
    "        article.parse()\n",
    "        article_text = str(article.text).replace('\\n','')\n",
    "        df = pd.DataFrame([[article_text, 'movies']], columns=['article_text','category'])\n",
    "        with open('./data/articles.csv', 'a') as f:\n",
    "            df.to_csv(f, header=False, index=False)\n",
    "        print(\"added to csv: \" + link)\n",
    "    except:\n",
    "        print(\"could not download the link: \" + link)\n",
    "        continue"
   ]
  },
  {
   "cell_type": "code",
   "execution_count": 55,
   "metadata": {
    "collapsed": true
   },
   "outputs": [],
   "source": [
    "#create a header for the file when creating the file\n",
    "#head = pd.DataFrame([['article_text', 'category']], columns=['article_text','category'])\n",
    "#with open('./data/articles.csv', 'a') as f:\n",
    "#    head.to_csv(f, header=False, index=False)"
   ]
  },
  {
   "cell_type": "code",
   "execution_count": 135,
   "metadata": {},
   "outputs": [
    {
     "name": "stdout",
     "output_type": "stream",
     "text": [
      "['article_text', 'category']\n",
      "['In recent years, I’ve caught a rather nasty case of replay anxiety, an increasingly common malady in American sports. The afflicted cannot watch a long touchdown run, a buzzer beater or a no-hitter reach the bottom of the ninth inning without worrying that the unfolding drama will be interrupted by the sight of umpires and referees trotting — always a bit too slowly and dutifully — to the replay monitors to review a call. Sitting on my couch, my eyes darting around the screen, I feel the strain of switching between two parallel realities: what the ref sees and what the machine knows.I feel bad for the refs, who, for the most part, are company men in an industry that desperately wants to replace their jobs with automatons. Management, in this case, seems determined to put the ref’s flaws on full display: Every time the ref makes a mistake — especially one that alters the outcome of a game — it’s played over and over again on the giant glowing Jumbotron that hangs over his head, on the television broadcasts and then again, throughout the night, on “SportsCenter.” By the time he wakes up the next morning, his gaffe will have been thoroughly dissected by the forensic experts of YouTube, who stretch every suspicious five-second clip into a meticulously edited short documentary, complete with a menacing violin soundtrack and enraged, caps-locked captions like: “NOTICE NO FOUL WAS CALLED EVEN THOUGH REFEREE X WAS STANDING TWO FEET AWAY!!!”Even the quants have it out for refs. In 2005, John Ball, a data analyst and rabid Houston Rockets fan, had a fit of referee paranoia. The Rockets had just lost a series to the Dallas Mavericks. Jeff Van Gundy, the Rockets’ coach, had been fined a record $100,000 for insinuating that the Mavericks’ owner, Mark Cuban, had persuaded the referees to call more offensive fouls on the Rockets center Yao Ming. Ball ran a popular Yao fan site at the time, and he later began to compile a database that tracked information on referees’ habits. Along with a small team of fellow analysts, Ball watched hundreds of hours of tape to note all the times when a referee missed a call or ignored a violation. They found that there were roughly 20 to 30 bad calls per game and that each ref has predictable patterns of behavior — some call more charging fouls, others hate to blow the whistle on traveling violations and others give more leniency to superstars. Some N.B.A. teams now use the behavioral patterns Ball tracks to develop game plans around referees. Ball’s data, for example, showed that Derek Fisher, the squat, blockheaded former point guard and recently fired Knicks coach, had an unusual talent for drawing illegal screen calls on his opponents from susceptible referees.', 'sports']\n",
      "['“Fathers\" is the story of two single fathers and their sons. One of the men, Rick Tarinno, lost his wife in a tragic car accident 3 years ago. Ever since the accident, Rick has blamed God for everything, from the death of his wife to the living hell', 'sports']\n",
      "['The best-selling sports books in April 2016, according to the New York Times best-seller list.1. THE BOYS IN THE BOAT by Daniel James Brown (Penguin). A group of American rowers pursues gold at the 1936 Berlin Olympic Games.2. SHOE DOG by Phil Knight (Scribner). A memoir by the founder of Nike.3. BACK FROM THE DEAD by Bill Walton (Simon & Schuster). An autobiography of the former basketball player (and Grateful Dead fan), who has struggled with injuries.4. THE ARM by Jeff Passan (Harper). The intricate mechanics of the human arm and the epidemic of orthopedic injuries and operations in professional baseball and youth sports.5. UNBROKEN by Laura Hillenbrand (Random House). An Olympic runner’s story of survival as a prisoner of the Japanese in World War II; a 2014 movie.', 'sports']\n",
      "['Detailed accusations of state-sponsored doping among Russian athletes have spurred serious debate about whether the country should be allowed to compete in the coming Summer Olympics in Rio de Janeiro.“We have never claimed that we do not have doping problems,” the Russian Ministry of Sport said last week after the former director of the country’s antidoping laboratory described widespread use of performance-enhancing drugs by Russia’s Olympians.But what, exactly, are those doping problems? And how will they affect Russia’s eligibility for the Rio Games?Do Russian athletes dope more than other athletes?That’s impossible to know. But we do know that they get caught more. Russian athletes had more positive doping tests than athletes from any other country in 2014, the most recent year for which data is available from the World Anti-Doping Agency.', 'sports']\n"
     ]
    }
   ],
   "source": [
    "# checking a few articles to see that we got it right\n",
    "datafile = open('./data/articles.csv', 'r')\n",
    "datareader = csv.reader(datafile, delimiter=',')\n",
    "data = []\n",
    "for row in datareader:\n",
    "    data.append(row)    \n",
    "for i in range(5):\n",
    "    print(data[i])"
   ]
  },
  {
   "cell_type": "code",
   "execution_count": 159,
   "metadata": {
    "collapsed": true
   },
   "outputs": [],
   "source": [
    "# imports required for shuffle\n",
    "from random import shuffle \n",
    "import numpy as np"
   ]
  },
  {
   "cell_type": "code",
   "execution_count": 161,
   "metadata": {
    "collapsed": true
   },
   "outputs": [],
   "source": [
    "# shuffling the articles data\n",
    "data = np.array(data)\n",
    "np.random.shuffle(data)"
   ]
  },
  {
   "cell_type": "code",
   "execution_count": 166,
   "metadata": {
    "collapsed": true,
    "scrolled": false
   },
   "outputs": [],
   "source": [
    "# writing the shiffled articles back to a new csv\n",
    "count = 0\n",
    "\n",
    "for article, category in data:\n",
    "    df = pd.DataFrame([[article, category]], columns=['article_text','category'])\n",
    "    with open('./data/shuffled_articles.csv', 'a') as f:\n",
    "            df.to_csv(f, header=False, index=False)"
   ]
  },
  {
   "cell_type": "code",
   "execution_count": 165,
   "metadata": {
    "collapsed": true
   },
   "outputs": [],
   "source": [
    "# creating header for the new csv before using it\n",
    "#head = pd.DataFrame([['article_text', 'category']], columns=['article_text','category'])\n",
    "#with open('./data/shuffled_articles.csv', 'a') as f:\n",
    "#    head.to_csv(f, header=False, index=False)"
   ]
  }
 ],
 "metadata": {
  "kernelspec": {
   "display_name": "Python 2",
   "language": "python",
   "name": "python2"
  },
  "language_info": {
   "codemirror_mode": {
    "name": "ipython",
    "version": 2
   },
   "file_extension": ".py",
   "mimetype": "text/x-python",
   "name": "python",
   "nbconvert_exporter": "python",
   "pygments_lexer": "ipython2",
   "version": "2.7.16"
  }
 },
 "nbformat": 4,
 "nbformat_minor": 2
}
